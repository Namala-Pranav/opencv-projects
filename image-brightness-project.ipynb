{
 "cells": [
  {
   "cell_type": "code",
   "execution_count": 11,
   "id": "fe5b41e0-0319-4bb1-b39e-7e6d3b4205d2",
   "metadata": {},
   "outputs": [],
   "source": [
    "img= cv2.imread(r\"C:\\Users\\prana\\Downloads\\kohli.jpg\")"
   ]
  },
  {
   "cell_type": "code",
   "execution_count": 12,
   "id": "fa9bb880-5dd8-46d8-991a-a001d9f6d6ca",
   "metadata": {},
   "outputs": [],
   "source": [
    "import cv2\n",
    "import numpy as np"
   ]
  },
  {
   "cell_type": "code",
   "execution_count": 13,
   "id": "b330b4ef-832f-4acb-895c-30c61bce3e01",
   "metadata": {},
   "outputs": [],
   "source": [
    "def no(x):\n",
    "    pass"
   ]
  },
  {
   "cell_type": "code",
   "execution_count": 19,
   "id": "836a4abd-19be-43d8-b612-20b75f5689f9",
   "metadata": {},
   "outputs": [],
   "source": [
    "\n",
    "cv2.namedWindow(\"Image light and brightness adjustment\", cv2.WINDOW_FREERATIO)\n",
    "\n",
    "# Create a trackbar to control brightness\n",
    "cv2.createTrackbar(\"Brightness\", \"Image light and brightness adjustment\", 0, 100, no)\n",
    "\n",
    "while True:\n",
    "    # Get the current trackbar position\n",
    "    brt = cv2.getTrackbarPos(\"Brightness\", \"Image light and brightness adjustment\")\n",
    "    brightness_value = brt - 50\n",
    "\n",
    "    cv2.imshow(\"Image light and brightness adjustment\",np.clip(img.astype(np.int16) + brightness_value, 0, 255).astype(np.uint8))\n",
    "\n",
    "    if cv2.waitKey(1) == ord(\"q\"):\n",
    "        break\n",
    "cv2.destroyAllWindows()\n"
   ]
  },
  {
   "cell_type": "code",
   "execution_count": null,
   "id": "39779733-2719-4dff-9c89-6a87ace995fe",
   "metadata": {},
   "outputs": [],
   "source": []
  }
 ],
 "metadata": {
  "kernelspec": {
   "display_name": "Python 3 (ipykernel)",
   "language": "python",
   "name": "python3"
  },
  "language_info": {
   "codemirror_mode": {
    "name": "ipython",
    "version": 3
   },
   "file_extension": ".py",
   "mimetype": "text/x-python",
   "name": "python",
   "nbconvert_exporter": "python",
   "pygments_lexer": "ipython3",
   "version": "3.13.3"
  }
 },
 "nbformat": 4,
 "nbformat_minor": 5
}
