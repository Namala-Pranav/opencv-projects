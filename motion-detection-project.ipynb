{
 "cells": [
  {
   "cell_type": "code",
   "execution_count": 1,
   "id": "ba510da3-893f-42fd-b8e2-9cddde9bd7d9",
   "metadata": {},
   "outputs": [],
   "source": [
    "import cv2\n",
    "import numpy as np"
   ]
  },
  {
   "cell_type": "code",
   "execution_count": 22,
   "id": "913e104d-ebdf-4c04-a152-566abcd32656",
   "metadata": {},
   "outputs": [],
   "source": [
    "vid = cv2.VideoCapture(r\"C:\\Users\\prana\\Downloads\\mixkit-people-walking-in-front-of-a-building-4169-hd-ready.mp4\")\n",
    "x, y, w, h = 300, 150, 400, 700\n",
    "su1,fr1 = vid.read()\n",
    "frg1 = cv2.cvtColor(fr1,cv2.COLOR_BGR2GRAY)\n",
    "\n",
    "while True:\n",
    "    su,fr = vid.read()\n",
    "    frg = cv2.cvtColor(fr,cv2.COLOR_BGR2GRAY)\n",
    "\n",
    "    cv2.rectangle(fr, (x, y), (x + w, y + h), (0, 255, 0), 2)\n",
    "    roi_prev = frg1[y:y + h, x:x + w]\n",
    "    roi_curr = frg[y:y + h, x:x + w]\n",
    "\n",
    "    diff = cv2.subtract(roi_prev, roi_curr)\n",
    "    diff = diff / 255 \n",
    "\n",
    "    if np.sum(diff) > 200:\n",
    "        cv2.putText(fr, \"MOTION DETECTED\", (50, 100),cv2.FONT_HERSHEY_PLAIN, 3, (0, 0, 255), 3)\n",
    "    cv2.imshow(\"Locker Monitor\", fr)\n",
    "\n",
    "    if cv2.waitKey(100) == ord('q'):\n",
    "        break\n",
    "\n",
    "    frg1 = frg\n",
    "\n",
    "vid.release()\n",
    "cv2.destroyAllWindows()"
   ]
  },
  {
   "cell_type": "code",
   "execution_count": 5,
   "id": "58e845f3-182b-4834-95f6-0237f64926e8",
   "metadata": {},
   "outputs": [],
   "source": []
  },
  {
   "cell_type": "code",
   "execution_count": null,
   "id": "169e335f-47db-45a5-af6a-40f763ea5fac",
   "metadata": {},
   "outputs": [],
   "source": []
  }
 ],
 "metadata": {
  "kernelspec": {
   "display_name": "Python 3 (ipykernel)",
   "language": "python",
   "name": "python3"
  },
  "language_info": {
   "codemirror_mode": {
    "name": "ipython",
    "version": 3
   },
   "file_extension": ".py",
   "mimetype": "text/x-python",
   "name": "python",
   "nbconvert_exporter": "python",
   "pygments_lexer": "ipython3",
   "version": "3.13.3"
  }
 },
 "nbformat": 4,
 "nbformat_minor": 5
}
