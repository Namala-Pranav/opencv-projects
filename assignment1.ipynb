{
 "cells": [
  {
   "cell_type": "code",
   "execution_count": 4,
   "id": "fabaab99-f4c0-4787-8a60-ea96c83fccd0",
   "metadata": {},
   "outputs": [],
   "source": [
    "import cv2\n",
    "import numpy as np"
   ]
  },
  {
   "cell_type": "code",
   "execution_count": 5,
   "id": "1f73c8b0-9243-4c63-ac50-bf80cc32b562",
   "metadata": {},
   "outputs": [],
   "source": [
    "def nothing(x):\n",
    "    pass"
   ]
  },
  {
   "cell_type": "code",
   "execution_count": 6,
   "id": "53e5e795-720a-4b38-ace2-70ca5bcbabe8",
   "metadata": {},
   "outputs": [],
   "source": [
    "image = cv2.imread(r\"C:\\Users\\prana\\Downloads\\assignment.png\")\n",
    "img = cv2.resize(image,(400,400))\n",
    "rect = cv2.selectROI('Makeup', img, False, False)\n",
    "h1, w1 = int(rect[3]), int(rect[2])\n",
    "roi = img[int(rect[1]):int(rect[1]+rect[3]), int(rect[0]):int(rect[0]+rect[2])]\n",
    "cv2.destroyAllWindows()\n",
    "\n",
    "cv2.namedWindow('Controls', cv2.WINDOW_NORMAL)\n",
    "cv2.resizeWindow('Controls', 500, 600)\n",
    "cv2.namedWindow('Beautified', cv2.WINDOW_NORMAL)\n",
    "cv2.namedWindow('Original', cv2.WINDOW_NORMAL)\n",
    "\n",
    "cv2.createTrackbar('LH', 'Controls', 150, 179, nothing)\n",
    "cv2.createTrackbar('LS', 'Controls', 50, 255, nothing)\n",
    "cv2.createTrackbar('LV', 'Controls', 120, 255, nothing)\n",
    "cv2.createTrackbar('UH', 'Controls', 170, 179, nothing)\n",
    "cv2.createTrackbar('US', 'Controls', 255, 255, nothing)\n",
    "cv2.createTrackbar('UV', 'Controls', 255, 255, nothing)\n",
    "cv2.createTrackbar('Blur', 'Controls', 15, 50, nothing)\n",
    "cv2.createTrackbar('B', 'Controls', 40, 255, nothing)\n",
    "cv2.createTrackbar('G', 'Controls', 0, 255, nothing)\n",
    "cv2.createTrackbar('R', 'Controls', 150, 255, nothing)\n",
    "cv2.createTrackbar('Tint', 'Controls', 60, 100, nothing)\n",
    "cv2.createTrackbar('SX', 'Controls', w1 // 2, w1 - 1, nothing)\n",
    "cv2.createTrackbar('SY', 'Controls', h1 // 2, h1 - 1, nothing)\n",
    "cv2.createTrackbar('SS', 'Controls', 15, min(h1, w1) // 2, nothing)\n",
    "\n",
    "while True:\n",
    "    lh = cv2.getTrackbarPos('LH', 'Controls')\n",
    "    ls = cv2.getTrackbarPos('LS', 'Controls')\n",
    "    lv = cv2.getTrackbarPos('LV', 'Controls')\n",
    "    uh = cv2.getTrackbarPos('UH', 'Controls')\n",
    "    us = cv2.getTrackbarPos('US', 'Controls')\n",
    "    uv = cv2.getTrackbarPos('UV', 'Controls')\n",
    "    b = cv2.getTrackbarPos('B', 'Controls')\n",
    "    g = cv2.getTrackbarPos('G', 'Controls')\n",
    "    r = cv2.getTrackbarPos('R', 'Controls')\n",
    "    tint = cv2.getTrackbarPos('Tint', 'Controls') / 100.0\n",
    "    sx = cv2.getTrackbarPos('SX', 'Controls')\n",
    "    sy = cv2.getTrackbarPos('SY', 'Controls')\n",
    "    ss = cv2.getTrackbarPos('SS', 'Controls')\n",
    "    blur_amt = cv2.getTrackbarPos('Blur', 'Controls')\n",
    "    blur_amt = max(3, blur_amt | 1)\n",
    "    roi_blur = cv2.GaussianBlur(roi, (blur_amt, blur_amt), 0)\n",
    "    hsv = cv2.cvtColor(roi, cv2.COLOR_BGR2HSV)\n",
    "    lower = np.array([lh, ls, lv])\n",
    "    upper = np.array([uh, us, uv])\n",
    "    mask = cv2.inRange(hsv, lower, upper)\n",
    "    kernel = cv2.getStructuringElement(cv2.MORPH_ELLIPSE, (7, 7))\n",
    "    mask_clean = cv2.morphologyEx(mask, cv2.MORPH_CLOSE, kernel)\n",
    "    color = np.full(roi.shape, (b, g, r), dtype=np.uint8)\n",
    "    lips = cv2.bitwise_and(color, color, mask=mask_clean)\n",
    "    makeup = cv2.addWeighted(roi_blur, 1, lips, tint, 0)\n",
    "    out_roi = roi_blur.copy()\n",
    "    out_roi[mask_clean > 0] = makeup[mask_clean > 0]\n",
    "    sx = min(max(sx, 0), w1 - 1)\n",
    "    sy = min(max(sy, 0), h1 - 1)\n",
    "    ss = min(ss, w1 // 2, h1 // 2)\n",
    "    cv2.circle(out_roi, (sx, sy), ss, (255, 0, 0), -1)\n",
    "    out_img = img.copy()\n",
    "    out_img[int(rect[1]):int(rect[1]+rect[3]), int(rect[0]):int(rect[0]+rect[2])] = out_roi\n",
    "    cv2.imshow('Beautified', out_img)\n",
    "    cv2.imshow('Original', img)\n",
    "    if cv2.waitKey(1) & 0xFF == 27:\n",
    "        break\n",
    "\n",
    "cv2.imwrite('beautified_output.jpg', out_img)\n",
    "cv2.destroyAllWindows()"
   ]
  },
  {
   "cell_type": "code",
   "execution_count": null,
   "id": "e76bebd2-bd34-440e-b89c-ffda1b20dd02",
   "metadata": {},
   "outputs": [],
   "source": []
  },
  {
   "cell_type": "code",
   "execution_count": null,
   "id": "de2b66e3-af43-45c7-91ac-56915249ec3a",
   "metadata": {},
   "outputs": [],
   "source": []
  }
 ],
 "metadata": {
  "kernelspec": {
   "display_name": "Python 3 (ipykernel)",
   "language": "python",
   "name": "python3"
  },
  "language_info": {
   "codemirror_mode": {
    "name": "ipython",
    "version": 3
   },
   "file_extension": ".py",
   "mimetype": "text/x-python",
   "name": "python",
   "nbconvert_exporter": "python",
   "pygments_lexer": "ipython3",
   "version": "3.13.3"
  }
 },
 "nbformat": 4,
 "nbformat_minor": 5
}
