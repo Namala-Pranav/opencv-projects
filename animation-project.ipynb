{
 "cells": [
  {
   "cell_type": "code",
   "execution_count": 2,
   "id": "2cd14df2-5b9f-4755-929c-4a676cc5d4a2",
   "metadata": {},
   "outputs": [],
   "source": [
    "import cv2\n",
    "import numpy as np\n",
    "import random\n",
    "import os\n",
    "\n",
    "balls = []\n",
    "frame_shape = None\n",
    "\n",
    "def mouse_callback(event, x, y, flags, param):\n",
    "    if event == cv2.EVENT_LBUTTONDOWN and frame_shape is not None:\n",
    "        dx = random.choice([-4, 4])\n",
    "        dy = random.choice([-4, 4])\n",
    "        radius = 20\n",
    "        color = tuple(np.random.randint(50, 240, 3).tolist())\n",
    "        balls.append([x, y, dx, dy, radius, color])\n",
    "\n",
    "video_path = r\"C:\\Users\\prana\\Downloads\\mixkit-people-walking-in-front-of-a-building-4169-hd-ready.mp4\" # Change to your actual video file name\n",
    "\n",
    "# Check if the file exists\n",
    "if not os.path.exists(video_path):\n",
    "    print(f\"File not found: {video_path}\")\n",
    "    exit()\n",
    "\n",
    "cap = cv2.VideoCapture(video_path)\n",
    "ret, frame = cap.read()\n",
    "if not ret or frame is None:\n",
    "    print(\"Error: Could not read frame from video. Check file format or codec support.\")\n",
    "    cap.release()\n",
    "    exit()\n",
    "\n",
    "frame_shape = frame.shape\n",
    "h, w = frame_shape[:2]\n",
    "\n",
    "cv2.namedWindow(\"Bouncing Balls\")\n",
    "cv2.setMouseCallback(\"Bouncing Balls\", mouse_callback)\n",
    "\n",
    "while True:\n",
    "    ret, frame = cap.read()\n",
    "    if not ret or frame is None:\n",
    "        break\n",
    "\n",
    "    for ball in balls:\n",
    "        ball[0] += ball[2]\n",
    "        ball[1] += ball[3]\n",
    "        if ball[0] < ball[4] or ball[0] > w - ball[4]:\n",
    "            ball[2] *= -1\n",
    "            ball[0] = max(ball[4], min(w - ball[4], ball[0]))\n",
    "        if ball[1] < ball[4] or ball[1] > h - ball[4]:\n",
    "            ball[3] *= -1\n",
    "            ball[1] = max(ball[4], min(h - ball[4], ball[1]))\n",
    "        cv2.circle(frame, (int(ball[0]), int(ball[1])), ball[4], ball[5], -1)\n",
    "\n",
    "    cv2.imshow(\"Bouncing Balls\", frame)\n",
    "    if cv2.waitKey(20) & 0xFF == 27:\n",
    "        break\n",
    "\n",
    "cap.release()\n",
    "cv2.destroyAllWindows()\n"
   ]
  },
  {
   "cell_type": "code",
   "execution_count": null,
   "id": "5232e058-4876-46bb-96b6-5088843070ab",
   "metadata": {},
   "outputs": [],
   "source": []
  },
  {
   "cell_type": "code",
   "execution_count": null,
   "id": "d353efe8-4aef-40c2-8acc-c9b8abd6c507",
   "metadata": {},
   "outputs": [],
   "source": []
  },
  {
   "cell_type": "code",
   "execution_count": null,
   "id": "e781431a-47b1-4362-8b58-6532a0767f2d",
   "metadata": {},
   "outputs": [],
   "source": []
  },
  {
   "cell_type": "code",
   "execution_count": null,
   "id": "accc01f2-669d-468d-a33d-a62042f3e931",
   "metadata": {},
   "outputs": [],
   "source": []
  },
  {
   "cell_type": "code",
   "execution_count": null,
   "id": "6a8b2f60-e579-48c7-a317-c92a4ae2e379",
   "metadata": {},
   "outputs": [],
   "source": []
  },
  {
   "cell_type": "code",
   "execution_count": null,
   "id": "d7e03817-2db5-4fd3-82c7-d7f22eaf6ef7",
   "metadata": {},
   "outputs": [],
   "source": []
  },
  {
   "cell_type": "code",
   "execution_count": null,
   "id": "41da15d4-2155-43cc-aec2-7fd8cd0d62d8",
   "metadata": {},
   "outputs": [],
   "source": []
  },
  {
   "cell_type": "code",
   "execution_count": null,
   "id": "8fca8106-021f-482a-9aab-3c0c3b107eb6",
   "metadata": {},
   "outputs": [],
   "source": []
  }
 ],
 "metadata": {
  "kernelspec": {
   "display_name": "Python 3 (ipykernel)",
   "language": "python",
   "name": "python3"
  },
  "language_info": {
   "codemirror_mode": {
    "name": "ipython",
    "version": 3
   },
   "file_extension": ".py",
   "mimetype": "text/x-python",
   "name": "python",
   "nbconvert_exporter": "python",
   "pygments_lexer": "ipython3",
   "version": "3.13.3"
  }
 },
 "nbformat": 4,
 "nbformat_minor": 5
}
