{
 "cells": [
  {
   "cell_type": "code",
   "execution_count": 1,
   "id": "5fcf7f10-c9ff-4ebc-8c9c-f6093bf7649e",
   "metadata": {},
   "outputs": [],
   "source": [
    "import cv2\n",
    "import numpy as np"
   ]
  },
  {
   "cell_type": "code",
   "execution_count": 2,
   "id": "bad6accd-0ab2-412b-a138-f4b65d455c7b",
   "metadata": {},
   "outputs": [],
   "source": [
    "def nothing(x):\n",
    "    pass"
   ]
  },
  {
   "cell_type": "code",
   "execution_count": 3,
   "id": "91c3939b-b29b-4d3d-9c26-6ec67f634135",
   "metadata": {},
   "outputs": [
    {
     "ename": "error",
     "evalue": "OpenCV(4.12.0) D:\\a\\opencv-python\\opencv-python\\opencv\\modules\\highgui\\src\\window_w32.cpp:2570: error: (-27:Null pointer) NULL window: 'Trackbars' in function 'cvGetTrackbarPos'\n",
     "output_type": "error",
     "traceback": [
      "\u001b[31m---------------------------------------------------------------------------\u001b[39m",
      "\u001b[31merror\u001b[39m                                     Traceback (most recent call last)",
      "\u001b[36mCell\u001b[39m\u001b[36m \u001b[39m\u001b[32mIn[3]\u001b[39m\u001b[32m, line 23\u001b[39m\n\u001b[32m     19\u001b[39m succ, frame = vid.read()\n\u001b[32m     21\u001b[39m hsv = cv2.cvtColor(frame, cv2.COLOR_BGR2HSV)\n\u001b[32m---> \u001b[39m\u001b[32m23\u001b[39m lh = \u001b[43mcv2\u001b[49m\u001b[43m.\u001b[49m\u001b[43mgetTrackbarPos\u001b[49m\u001b[43m(\u001b[49m\u001b[33;43m'\u001b[39;49m\u001b[33;43mLH\u001b[39;49m\u001b[33;43m'\u001b[39;49m\u001b[43m,\u001b[49m\u001b[43m \u001b[49m\u001b[33;43m'\u001b[39;49m\u001b[33;43mTrackbars\u001b[39;49m\u001b[33;43m'\u001b[39;49m\u001b[43m)\u001b[49m\n\u001b[32m     24\u001b[39m ls = cv2.getTrackbarPos(\u001b[33m'\u001b[39m\u001b[33mLS\u001b[39m\u001b[33m'\u001b[39m, \u001b[33m'\u001b[39m\u001b[33mTrackbars\u001b[39m\u001b[33m'\u001b[39m)\n\u001b[32m     25\u001b[39m lv = cv2.getTrackbarPos(\u001b[33m'\u001b[39m\u001b[33mLV\u001b[39m\u001b[33m'\u001b[39m, \u001b[33m'\u001b[39m\u001b[33mTrackbars\u001b[39m\u001b[33m'\u001b[39m)\n",
      "\u001b[31merror\u001b[39m: OpenCV(4.12.0) D:\\a\\opencv-python\\opencv-python\\opencv\\modules\\highgui\\src\\window_w32.cpp:2570: error: (-27:Null pointer) NULL window: 'Trackbars' in function 'cvGetTrackbarPos'\n"
     ]
    }
   ],
   "source": [
    "vid = cv2.VideoCapture(0)\n",
    "cv2.namedWindow('Trackbars')\n",
    "\n",
    "cv2.createTrackbar('LH', 'Trackbars', 0, 179, nothing) \n",
    "cv2.createTrackbar('LS', 'Trackbars', 0, 255, nothing)\n",
    "cv2.createTrackbar('LV', 'Trackbars', 0, 255, nothing)\n",
    "cv2.createTrackbar('UH', 'Trackbars', 179, 179, nothing) \n",
    "cv2.createTrackbar('US', 'Trackbars', 255, 255, nothing) \n",
    "cv2.createTrackbar('UV', 'Trackbars', 255, 255, nothing) \n",
    "\n",
    "cv2.namedWindow('Color Selector')\n",
    "\n",
    "cv2.createTrackbar('R', 'Color Selector', 0, 255, nothing) # Red channel\n",
    "cv2.createTrackbar('G', 'Color Selector', 0, 255, nothing) # Green channel\n",
    "cv2.createTrackbar('B', 'Color Selector', 255, 255, nothing) # Blue channel (default to blue)\n",
    "\n",
    "\n",
    "while True:\n",
    "    succ, frame = vid.read()\n",
    "\n",
    "    hsv = cv2.cvtColor(frame, cv2.COLOR_BGR2HSV)\n",
    "\n",
    "    lh = cv2.getTrackbarPos('LH', 'Trackbars')\n",
    "    ls = cv2.getTrackbarPos('LS', 'Trackbars')\n",
    "    lv = cv2.getTrackbarPos('LV', 'Trackbars')\n",
    "    uh = cv2.getTrackbarPos('UH', 'Trackbars')\n",
    "    us = cv2.getTrackbarPos('US', 'Trackbars')\n",
    "    uv = cv2.getTrackbarPos('UV', 'Trackbars')\n",
    "\n",
    "    lower_hsv = np.array([lh, ls, lv])\n",
    "    upper_hsv = np.array([uh, us, uv])\n",
    "\n",
    "    mask = cv2.inRange(hsv, lower_hsv, upper_hsv)\n",
    "    kernel = np.ones((5, 5), np.uint8)\n",
    "    mask = cv2.morphologyEx(mask, cv2.MORPH_OPEN, kernel)\n",
    "    mask = cv2.morphologyEx(mask, cv2.MORPH_DILATE, kernel)\n",
    "\n",
    "    b = cv2.getTrackbarPos('B', 'Color Selector')\n",
    "    g = cv2.getTrackbarPos('G', 'Color Selector')\n",
    "    r = cv2.getTrackbarPos('R', 'Color Selector')\n",
    "\n",
    "\n",
    "    replacement_color_img = np.full(frame.shape, (b, g, r), dtype=np.uint8)\n",
    "\n",
    "    color_replaced = cv2.bitwise_and(replacement_color_img, replacement_color_img, mask=mask)\n",
    "\n",
    "    background_mask = cv2.bitwise_not(mask)\n",
    "    background = cv2.bitwise_and(frame, frame, mask=background_mask)\n",
    "\n",
    "    final_frame = cv2.add(background, color_replaced)\n",
    "\n",
    "    cv2.imshow('Original', frame)\n",
    "    cv2.imshow('Color Replaced', final_frame)\n",
    "\n",
    "\n",
    "    color_preview = np.zeros((100, 400, 3), dtype=np.uint8)\n",
    "    color_preview[:] = (b, g, r)\n",
    "    cv2.imshow('Color Selector', color_preview)\n",
    "\n",
    "    if cv2.waitKey(1) & 255 == ord(\"q\"):\n",
    "        break\n",
    "        \n",
    "\n",
    "vid.release()\n",
    "cv2.destroyAllWindows()"
   ]
  },
  {
   "cell_type": "code",
   "execution_count": null,
   "id": "bd192d3c-119d-4dfb-b40f-01a57971ce0c",
   "metadata": {},
   "outputs": [],
   "source": []
  }
 ],
 "metadata": {
  "kernelspec": {
   "display_name": "Python 3 (ipykernel)",
   "language": "python",
   "name": "python3"
  },
  "language_info": {
   "codemirror_mode": {
    "name": "ipython",
    "version": 3
   },
   "file_extension": ".py",
   "mimetype": "text/x-python",
   "name": "python",
   "nbconvert_exporter": "python",
   "pygments_lexer": "ipython3",
   "version": "3.13.3"
  }
 },
 "nbformat": 4,
 "nbformat_minor": 5
}
